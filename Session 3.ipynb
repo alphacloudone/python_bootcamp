{
 "cells": [
  {
   "cell_type": "code",
   "execution_count": null,
   "metadata": {},
   "outputs": [],
   "source": [
    "# Comparison Operators"
   ]
  },
  {
   "cell_type": "code",
   "execution_count": 1,
   "metadata": {},
   "outputs": [
    {
     "data": {
      "text/plain": [
       "True"
      ]
     },
     "execution_count": 1,
     "metadata": {},
     "output_type": "execute_result"
    }
   ],
   "source": [
    "# ==\n",
    "a=2\n",
    "b=2\n",
    "a==b"
   ]
  },
  {
   "cell_type": "code",
   "execution_count": 2,
   "metadata": {},
   "outputs": [
    {
     "data": {
      "text/plain": [
       "False"
      ]
     },
     "execution_count": 2,
     "metadata": {},
     "output_type": "execute_result"
    }
   ],
   "source": [
    "c=3\n",
    "a==c"
   ]
  },
  {
   "cell_type": "code",
   "execution_count": 4,
   "metadata": {},
   "outputs": [],
   "source": [
    "d=\"Two\""
   ]
  },
  {
   "cell_type": "code",
   "execution_count": 5,
   "metadata": {},
   "outputs": [
    {
     "data": {
      "text/plain": [
       "False"
      ]
     },
     "execution_count": 5,
     "metadata": {},
     "output_type": "execute_result"
    }
   ],
   "source": [
    "a==d"
   ]
  },
  {
   "cell_type": "code",
   "execution_count": 6,
   "metadata": {},
   "outputs": [
    {
     "data": {
      "text/plain": [
       "True"
      ]
     },
     "execution_count": 6,
     "metadata": {},
     "output_type": "execute_result"
    }
   ],
   "source": [
    "# !=\n",
    "a!=d"
   ]
  },
  {
   "cell_type": "code",
   "execution_count": 8,
   "metadata": {},
   "outputs": [
    {
     "data": {
      "text/plain": [
       "True"
      ]
     },
     "execution_count": 8,
     "metadata": {},
     "output_type": "execute_result"
    }
   ],
   "source": [
    "# > and <\n",
    "a<c"
   ]
  },
  {
   "cell_type": "code",
   "execution_count": null,
   "metadata": {},
   "outputs": [],
   "source": [
    "# >=  and <="
   ]
  },
  {
   "cell_type": "code",
   "execution_count": 10,
   "metadata": {},
   "outputs": [
    {
     "data": {
      "text/plain": [
       "False"
      ]
     },
     "execution_count": 10,
     "metadata": {},
     "output_type": "execute_result"
    }
   ],
   "source": [
    "a>=c"
   ]
  },
  {
   "cell_type": "code",
   "execution_count": 13,
   "metadata": {},
   "outputs": [
    {
     "data": {
      "text/plain": [
       "True"
      ]
     },
     "execution_count": 13,
     "metadata": {},
     "output_type": "execute_result"
    }
   ],
   "source": [
    "# Chaining"
   ]
  },
  {
   "cell_type": "code",
   "execution_count": null,
   "metadata": {},
   "outputs": [],
   "source": [
    "# and\n",
    "\n",
    "a<b and b<c\n",
    "# can also be written\n",
    "a<b<c"
   ]
  },
  {
   "cell_type": "code",
   "execution_count": null,
   "metadata": {},
   "outputs": [],
   "source": [
    "# or\n",
    "a<b or a>=b"
   ]
  },
  {
   "cell_type": "code",
   "execution_count": 1,
   "metadata": {},
   "outputs": [
    {
     "data": {
      "text/plain": [
       "True"
      ]
     },
     "execution_count": 1,
     "metadata": {},
     "output_type": "execute_result"
    }
   ],
   "source": [
    "# in\n",
    "a=2\n",
    "\n",
    "a in (1,2)"
   ]
  },
  {
   "cell_type": "code",
   "execution_count": 18,
   "metadata": {},
   "outputs": [
    {
     "data": {
      "text/plain": [
       "False"
      ]
     },
     "execution_count": 18,
     "metadata": {},
     "output_type": "execute_result"
    }
   ],
   "source": [
    "a=2\n",
    "my_list=[1,2,3,4]\n",
    "\n",
    "a not in my_list"
   ]
  },
  {
   "cell_type": "code",
   "execution_count": null,
   "metadata": {},
   "outputs": [],
   "source": [
    "(my_variable_with_a_long_name >= b) or ('a'=='a')  # can use parenthesis to improve readability"
   ]
  },
  {
   "cell_type": "code",
   "execution_count": null,
   "metadata": {},
   "outputs": [],
   "source": [
    "# comparison operators and chaining have no natural order of operation"
   ]
  },
  {
   "cell_type": "code",
   "execution_count": null,
   "metadata": {},
   "outputs": [],
   "source": []
  },
  {
   "cell_type": "code",
   "execution_count": null,
   "metadata": {},
   "outputs": [],
   "source": [
    "# Conditional Statements"
   ]
  },
  {
   "cell_type": "code",
   "execution_count": 21,
   "metadata": {},
   "outputs": [
    {
     "name": "stdout",
     "output_type": "stream",
     "text": [
      "a is less than b\n",
      "still in the if statement\n",
      "still here\n",
      "no longer in the if statement\n"
     ]
    }
   ],
   "source": [
    "# If\n",
    "if a < b:\n",
    "    print(\"a is less than b\")\n",
    "    print(\"still in the if statement\")\n",
    "    print(\"still here\")\n",
    "    \n",
    "print(\"no longer in the if statement\")"
   ]
  },
  {
   "cell_type": "code",
   "execution_count": 25,
   "metadata": {},
   "outputs": [
    {
     "name": "stdout",
     "output_type": "stream",
     "text": [
      "did not meet the other conditions\n",
      "no longer in the conditional code\n"
     ]
    }
   ],
   "source": [
    "# else, else if\n",
    "a=2\n",
    "b=2\n",
    "\n",
    "if a < b:\n",
    "    print(\"a is less than b\")\n",
    "elif a > b:\n",
    "    print(\"a is greater than b\")\n",
    "else:\n",
    "    print(\"did not meet the other conditions\")\n",
    "    \n",
    "print(\"no longer in the conditional code\")"
   ]
  },
  {
   "cell_type": "markdown",
   "metadata": {},
   "source": [
    "Write a block of code that checks a variable x to see if it is even\n",
    "o\tIf it is even, print “This number is even”\n",
    "o\tIf it is not even, but x is greater than or equal to 10, print \"this is not even, but greater than or equal to 10\"\n",
    "o\tIf it is not even, but between (greater than) 5 and 10 (less than), print “this number is greater than five but less than 10\"\n",
    "o\tOtherwise, print “this number is not even\"\n",
    "o\tAfter the block of code is finished, print “this operation has completed”\n"
   ]
  },
  {
   "cell_type": "code",
   "execution_count": null,
   "metadata": {},
   "outputs": [],
   "source": [
    "# loops"
   ]
  },
  {
   "cell_type": "code",
   "execution_count": 29,
   "metadata": {},
   "outputs": [
    {
     "name": "stdout",
     "output_type": "stream",
     "text": [
      "0\n",
      "1\n",
      "2\n",
      "3\n",
      "4\n",
      "exited loop\n"
     ]
    }
   ],
   "source": [
    "# for\n",
    "for x in range(5):\n",
    "    print(x)\n",
    "    \n",
    "print(\"exited loop\")"
   ]
  },
  {
   "cell_type": "code",
   "execution_count": 32,
   "metadata": {},
   "outputs": [
    {
     "name": "stdout",
     "output_type": "stream",
     "text": [
      "0   10\n",
      "1   10\n",
      "2   10\n",
      "3   10\n",
      "4   10\n",
      "5   10\n",
      "6   10\n",
      "7   10\n",
      "8   10\n",
      "9   10\n",
      "out of the loop\n"
     ]
    }
   ],
   "source": [
    "# while\n",
    "z=10\n",
    "x=0\n",
    "\n",
    "while x<z:\n",
    "    print(x,\" \",z)\n",
    "    x+=1\n",
    "    \n",
    "print(\"out of the loop\")\n"
   ]
  },
  {
   "cell_type": "markdown",
   "metadata": {},
   "source": [
    "1.\tWrite a Python program to find those numbers which are divisible by 3 and a multiple of 5, between 1 and 100 inclusive (both included). Print each number as it is found."
   ]
  },
  {
   "cell_type": "code",
   "execution_count": null,
   "metadata": {},
   "outputs": [],
   "source": [
    "x=1\n",
    "while x <= 100:\n",
    "\n",
    "for x in range(1,101):\n"
   ]
  },
  {
   "cell_type": "code",
   "execution_count": 36,
   "metadata": {},
   "outputs": [
    {
     "name": "stdout",
     "output_type": "stream",
     "text": [
      "15\n",
      "30\n",
      "45\n",
      "60\n",
      "75\n",
      "90\n",
      "105\n",
      "out of loop\n"
     ]
    }
   ],
   "source": [
    "for x in range(1, 106):\n",
    "    if x % 3 == 0 and x % 5 == 0:\n",
    "        print(x)\n",
    "\n",
    "print('out of loop')\n"
   ]
  },
  {
   "cell_type": "code",
   "execution_count": null,
   "metadata": {},
   "outputs": [],
   "source": [
    "x = 1\n",
    "while x<=100:\n",
    "    if(x%3==0 and x%5==0):\n",
    "        print(\"This number, \" + str(x) +\", is divisible by 3 and a multiple of 5.\")\n",
    "    x+=1\n",
    "print(\"While Loop: Operation has ended\")\n"
   ]
  },
  {
   "cell_type": "markdown",
   "metadata": {},
   "source": [
    "2.\tWrite a Python program to construct the following pattern, using a nested for loop.\n",
    "**************\n",
    "*************\t \n",
    "************ \n",
    "*********** \n",
    "********** \n",
    "*********\n",
    "********\n",
    "*******\n",
    "******\n",
    "*****\n"
   ]
  },
  {
   "cell_type": "code",
   "execution_count": 6,
   "metadata": {},
   "outputs": [
    {
     "name": "stdout",
     "output_type": "stream",
     "text": [
      "***************\n",
      "**************\n",
      "*************\n",
      "************\n",
      "***********\n",
      "**********\n",
      "*********\n",
      "********\n",
      "*******\n",
      "******\n"
     ]
    }
   ],
   "source": [
    "ast_list=[]\n",
    "for x in range (15):\n",
    "    ast_list.append(\"*\")\n",
    "\n",
    "for i in range(10):\n",
    "    ast_string=\"\"\n",
    "    for x in ast_list:\n",
    "        ast_string+=x\n",
    "    ast_list.pop()\n",
    "    print(ast_string)"
   ]
  },
  {
   "cell_type": "code",
   "execution_count": 46,
   "metadata": {},
   "outputs": [
    {
     "name": "stdout",
     "output_type": "stream",
     "text": [
      "***************\n",
      "**************\n",
      "*************\n",
      "************\n",
      "***********\n",
      "**********\n",
      "*********\n",
      "********\n",
      "*******\n",
      "******\n",
      "*****\n"
     ]
    }
   ],
   "source": [
    "# 15 stars, 10 lines\n",
    "x = \"\"\n",
    "star_count = 15\n",
    "for lines in range(11):\n",
    "    for stars in range(star_count):\n",
    "        x = x + \"*\"\n",
    "    print(x)\n",
    "    x = \"\"\n",
    "    star_count = star_count - 1\n"
   ]
  },
  {
   "cell_type": "code",
   "execution_count": 51,
   "metadata": {},
   "outputs": [
    {
     "name": "stdout",
     "output_type": "stream",
     "text": [
      "**************\n",
      "*************\n",
      "************\n",
      "***********\n",
      "**********\n",
      "*********\n",
      "********\n",
      "*******\n",
      "******\n",
      "*****\n"
     ]
    }
   ],
   "source": [
    "stars= \"**************\" \n",
    "for x in range(10):      \n",
    "    print(stars[:14 - x])\n"
   ]
  },
  {
   "cell_type": "code",
   "execution_count": null,
   "metadata": {},
   "outputs": [],
   "source": []
  },
  {
   "cell_type": "code",
   "execution_count": null,
   "metadata": {},
   "outputs": [],
   "source": [
    "# enumerate"
   ]
  },
  {
   "cell_type": "code",
   "execution_count": null,
   "metadata": {},
   "outputs": [],
   "source": [
    "# breaking a runaway loop\n",
    "# select Kernal then interrupt from the menu bar, or ii"
   ]
  },
  {
   "cell_type": "code",
   "execution_count": null,
   "metadata": {},
   "outputs": [],
   "source": [
    "# break, continue, pass\n",
    "# break exits the loop\n",
    "# pass does nothing\n",
    "# continue returns to the top of the loop\n",
    "\n",
    "x=0\n",
    "while x < 100:\n",
    "    print(x)\n",
    "    x+=1\n",
    "    if x==10:\n",
    "        break\n",
    "    if x%2==0:\n",
    "        print(\"even\")\n",
    "    elif x!=10:\n",
    "        continue\n",
    "    else:\n",
    "        pass\n",
    "    \n",
    "    \n",
    "        "
   ]
  }
 ],
 "metadata": {
  "kernelspec": {
   "display_name": "Python 3",
   "language": "python",
   "name": "python3"
  },
  "language_info": {
   "codemirror_mode": {
    "name": "ipython",
    "version": 3
   },
   "file_extension": ".py",
   "mimetype": "text/x-python",
   "name": "python",
   "nbconvert_exporter": "python",
   "pygments_lexer": "ipython3",
   "version": "3.8.5"
  }
 },
 "nbformat": 4,
 "nbformat_minor": 4
}
