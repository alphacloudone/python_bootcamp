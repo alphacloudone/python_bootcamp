{
 "cells": [
  {
   "cell_type": "code",
   "execution_count": null,
   "metadata": {},
   "outputs": [],
   "source": [
    "# Class Objects"
   ]
  },
  {
   "cell_type": "code",
   "execution_count": null,
   "metadata": {},
   "outputs": [],
   "source": [
    "# General layout\n",
    "\n",
    "class MyNewClass():\n",
    "    def __init__(self, param1, param2):\n",
    "        self.firstparam = param1\n",
    "        self.secondparam = param2\n",
    "        \n",
    "    def mymethod():\n",
    "        # custom method for your Class object\n",
    "        pass"
   ]
  },
  {
   "cell_type": "code",
   "execution_count": 6,
   "metadata": {},
   "outputs": [],
   "source": [
    "# class Automobile\n",
    "class Automobile():\n",
    "    def __init__(self, engine, doors, tires):\n",
    "        self.engine=engine\n",
    "        self.doors=doors\n",
    "        self.tires=tires\n",
    "        \n",
    "    def print_engine(self):\n",
    "        print(self.engine)"
   ]
  },
  {
   "cell_type": "code",
   "execution_count": 7,
   "metadata": {},
   "outputs": [],
   "source": [
    "# create new Automobile object\n",
    "my_honda = Automobile(\"v6\",\"4\",\"goodyear\")"
   ]
  },
  {
   "cell_type": "code",
   "execution_count": 8,
   "metadata": {},
   "outputs": [
    {
     "name": "stdout",
     "output_type": "stream",
     "text": [
      "v6\n"
     ]
    }
   ],
   "source": [
    "my_honda.print_engine()"
   ]
  },
  {
   "cell_type": "code",
   "execution_count": 9,
   "metadata": {},
   "outputs": [],
   "source": [
    "my_bmw = Automobile(\"v8\",\"two\",\"michellin\")"
   ]
  },
  {
   "cell_type": "code",
   "execution_count": 10,
   "metadata": {},
   "outputs": [
    {
     "name": "stdout",
     "output_type": "stream",
     "text": [
      "v8\n"
     ]
    }
   ],
   "source": [
    "my_bmw.print_engine()"
   ]
  },
  {
   "cell_type": "markdown",
   "metadata": {},
   "source": []
  },
  {
   "cell_type": "code",
   "execution_count": null,
   "metadata": {},
   "outputs": [],
   "source": []
  },
  {
   "cell_type": "code",
   "execution_count": null,
   "metadata": {},
   "outputs": [],
   "source": [
    "# Create a Class Rectangle, with three attributes- width, height, depth\n",
    "\n",
    "# Create two functions- one that calculates its volume (WxHXD)\n",
    "# One that calculates its surface area 2x((WxH)+(WxD)+(HxD))"
   ]
  },
  {
   "cell_type": "code",
   "execution_count": 16,
   "metadata": {},
   "outputs": [],
   "source": [
    "class Rectangle():\n",
    "    def __init__(self, H, W, D):\n",
    "        self.height=H\n",
    "        self.width=W\n",
    "        self.depth=D\n",
    "        \n",
    "    def rectangle_volume(self):\n",
    "        self.rectangle_volume=self.height * self.width * self.depth\n",
    "        print(self.rectangle_volume)\n",
    "        \n",
    "    def rectangle_surface_area(self):\n",
    "        self.rectangle_surface_area = 2 * ((self.width*self.height) + (self.width * self.depth) + (self.height * self.depth)\n",
    "        print(self.rectangle_surface_area))"
   ]
  },
  {
   "cell_type": "code",
   "execution_count": 17,
   "metadata": {},
   "outputs": [],
   "source": [
    "my_rectangle = Rectangle(15,12,8)"
   ]
  },
  {
   "cell_type": "code",
   "execution_count": 18,
   "metadata": {},
   "outputs": [
    {
     "name": "stdout",
     "output_type": "stream",
     "text": [
      "1440\n"
     ]
    }
   ],
   "source": [
    "my_rectangle.rectangle_volume()"
   ]
  },
  {
   "cell_type": "code",
   "execution_count": 19,
   "metadata": {},
   "outputs": [],
   "source": [
    "class Rectangle():\n",
    "    def __init__(self, width, height, depth):\n",
    "        self.width = width\n",
    "        self.height = height\n",
    "        self.depth = depth\n",
    "        \n",
    "    def rec_volume(self):\n",
    "        volume = self.width * self.height * self.depth\n",
    "        return (volume)\n",
    "    def rec_surface(self):\n",
    "        surface = 2 * ((self.width * self.height) + (self.width * self.depth) + (self.height * self.depth))\n",
    "        return (surface)\n"
   ]
  },
  {
   "cell_type": "code",
   "execution_count": 20,
   "metadata": {},
   "outputs": [],
   "source": [
    "annas_rectangle=Rectangle(3,5,9)"
   ]
  },
  {
   "cell_type": "code",
   "execution_count": 21,
   "metadata": {},
   "outputs": [
    {
     "name": "stdout",
     "output_type": "stream",
     "text": [
      "135\n"
     ]
    }
   ],
   "source": [
    "print(annas_rectangle.rec_volume())"
   ]
  },
  {
   "cell_type": "code",
   "execution_count": 22,
   "metadata": {},
   "outputs": [],
   "source": [
    "class Rectangle():\n",
    "    def __init__(self, width, height, fill_color):\n",
    "        self.width=width\n",
    "        self.height=height\n",
    "        self.fill_color = fill_color\n",
    "        \n",
    "    def is_square(self): \n",
    "        if(self.width==self.height):\n",
    "            print(\"You have a square!\")\n",
    "        else: \n",
    "            print(\"You have a rectangle!\")\n",
    "    def area_rectangle(self): \n",
    "        self.area_rectangle = self.width * self.height\n",
    "        print(self.area_rectangle)\n"
   ]
  },
  {
   "cell_type": "code",
   "execution_count": 23,
   "metadata": {},
   "outputs": [],
   "source": [
    "michals_rectangle=Rectangle(5,5,\"yellow\")"
   ]
  },
  {
   "cell_type": "code",
   "execution_count": 24,
   "metadata": {},
   "outputs": [
    {
     "name": "stdout",
     "output_type": "stream",
     "text": [
      "You have a square!\n"
     ]
    }
   ],
   "source": [
    "michals_rectangle.is_square()"
   ]
  },
  {
   "cell_type": "code",
   "execution_count": null,
   "metadata": {},
   "outputs": [],
   "source": []
  },
  {
   "cell_type": "code",
   "execution_count": null,
   "metadata": {},
   "outputs": [],
   "source": []
  },
  {
   "cell_type": "code",
   "execution_count": null,
   "metadata": {},
   "outputs": [],
   "source": []
  },
  {
   "cell_type": "code",
   "execution_count": null,
   "metadata": {},
   "outputs": [],
   "source": [
    "# Break"
   ]
  },
  {
   "cell_type": "code",
   "execution_count": 29,
   "metadata": {},
   "outputs": [
    {
     "name": "stdout",
     "output_type": "stream",
     "text": [
      "Please enter an integer: 8\n"
     ]
    }
   ],
   "source": [
    "# User Input\n",
    "my_input= input(\"Please enter an integer: \")\n"
   ]
  },
  {
   "cell_type": "code",
   "execution_count": 32,
   "metadata": {},
   "outputs": [
    {
     "data": {
      "text/plain": [
       "str"
      ]
     },
     "execution_count": 32,
     "metadata": {},
     "output_type": "execute_result"
    }
   ],
   "source": [
    "#my_input\n",
    "type(my_input)"
   ]
  },
  {
   "cell_type": "code",
   "execution_count": 33,
   "metadata": {},
   "outputs": [],
   "source": [
    "my_int = int(my_input)"
   ]
  },
  {
   "cell_type": "code",
   "execution_count": 34,
   "metadata": {},
   "outputs": [
    {
     "data": {
      "text/plain": [
       "int"
      ]
     },
     "execution_count": 34,
     "metadata": {},
     "output_type": "execute_result"
    }
   ],
   "source": [
    "type(my_int)"
   ]
  },
  {
   "cell_type": "code",
   "execution_count": 35,
   "metadata": {},
   "outputs": [
    {
     "data": {
      "text/plain": [
       "8"
      ]
     },
     "execution_count": 35,
     "metadata": {},
     "output_type": "execute_result"
    }
   ],
   "source": [
    "my_int"
   ]
  },
  {
   "cell_type": "code",
   "execution_count": null,
   "metadata": {},
   "outputs": [],
   "source": []
  },
  {
   "cell_type": "code",
   "execution_count": null,
   "metadata": {},
   "outputs": [],
   "source": [
    "# User Input with validation loop"
   ]
  },
  {
   "cell_type": "code",
   "execution_count": 39,
   "metadata": {},
   "outputs": [
    {
     "name": "stdout",
     "output_type": "stream",
     "text": [
      "Please enter Y or N: dog\n",
      "That is not a valid input\n",
      "Please enter Y or N: y\n",
      "That is a valid input\n"
     ]
    }
   ],
   "source": [
    "valid_input = False\n",
    "while valid_input == False:\n",
    "    user_input=input(\"Please enter Y or N: \")\n",
    "    if user_input.upper() == 'Y' or user_input == 'N':\n",
    "        valid_input=True\n",
    "        print(\"That is a valid input\")\n",
    "    else:\n",
    "        print(\"That is not a valid input\")"
   ]
  },
  {
   "cell_type": "code",
   "execution_count": null,
   "metadata": {},
   "outputs": [],
   "source": [
    "\n",
    "valid_input = False\n",
    "while valid_input == False: \n",
    "    user_input = input(\"Please enter a valid number 0 - 9: \")\n",
    "    try:\n",
    "        user_input = int(user_input)\n",
    "    except ValueError:\n",
    "        print(\"That is not a number\")\n",
    "        continue\n",
    "    if user_input in range(10):\n",
    "        valid_input = True\n",
    "        print(\"This is a valid input\")\n",
    "    else: \n",
    "        print(\"Try again”)\n"
   ]
  },
  {
   "cell_type": "code",
   "execution_count": null,
   "metadata": {},
   "outputs": [],
   "source": []
  },
  {
   "cell_type": "code",
   "execution_count": null,
   "metadata": {},
   "outputs": [],
   "source": [
    "# Coding Exercise\n",
    "# Prompt for user input of a number from 1-10\n",
    "# Re-prompt if valid number not received\n",
    "# When valid number received, multiply that number by 10, and output\n"
   ]
  },
  {
   "cell_type": "code",
   "execution_count": null,
   "metadata": {},
   "outputs": [],
   "source": []
  },
  {
   "cell_type": "code",
   "execution_count": null,
   "metadata": {},
   "outputs": [],
   "source": []
  },
  {
   "cell_type": "code",
   "execution_count": null,
   "metadata": {},
   "outputs": [],
   "source": [
    "# Scope LEGB"
   ]
  },
  {
   "cell_type": "code",
   "execution_count": null,
   "metadata": {},
   "outputs": [],
   "source": [
    "global user_input"
   ]
  },
  {
   "cell_type": "code",
   "execution_count": 44,
   "metadata": {},
   "outputs": [],
   "source": [
    "my_name=\"Chris\"\n",
    "\n",
    "def change_name():\n",
    "    my_name=\"Bob\"\n",
    "    print(my_name)\n"
   ]
  },
  {
   "cell_type": "code",
   "execution_count": 45,
   "metadata": {},
   "outputs": [
    {
     "name": "stdout",
     "output_type": "stream",
     "text": [
      "Bob\n"
     ]
    }
   ],
   "source": [
    "change_name()"
   ]
  },
  {
   "cell_type": "code",
   "execution_count": null,
   "metadata": {},
   "outputs": [],
   "source": [
    "# create a global variable, create a function that changes that variable in such a way that the global variable has a new value"
   ]
  },
  {
   "cell_type": "code",
   "execution_count": 52,
   "metadata": {},
   "outputs": [
    {
     "name": "stdout",
     "output_type": "stream",
     "text": [
      "5\n",
      "5\n",
      "7\n"
     ]
    }
   ],
   "source": [
    "#Global variable\n",
    "my_num = 5\n",
    "print(my_num)\n",
    "\n",
    "#Local Variable changes global variable\n",
    "def change_number():\n",
    "    my_num=7\n",
    "    return(my_num)\n",
    "    \n",
    "\n",
    "print(my_num)\n",
    "#This changes the global variable\n",
    "my_num = change_number()\n",
    "#print(my_num)\n",
    "print(my_num)"
   ]
  },
  {
   "cell_type": "code",
   "execution_count": 49,
   "metadata": {},
   "outputs": [],
   "source": [
    "my_num=5\n",
    "\n",
    "def my_func():\n",
    "    print(my_num)\n",
    "    "
   ]
  },
  {
   "cell_type": "code",
   "execution_count": 50,
   "metadata": {},
   "outputs": [
    {
     "name": "stdout",
     "output_type": "stream",
     "text": [
      "5\n"
     ]
    }
   ],
   "source": [
    "my_func()"
   ]
  },
  {
   "cell_type": "code",
   "execution_count": null,
   "metadata": {},
   "outputs": [],
   "source": [
    "# variables within a local function"
   ]
  },
  {
   "cell_type": "code",
   "execution_count": null,
   "metadata": {},
   "outputs": [],
   "source": [
    "# nested function variables"
   ]
  },
  {
   "cell_type": "code",
   "execution_count": null,
   "metadata": {},
   "outputs": [],
   "source": [
    "# coding exercise- o\tCreate class Person, with attributes height (in inches), weight, name\n",
    "# Create function to prompt for name\n",
    "# Create function to prompt for height- validate\n",
    "# Create function to prompt for weight, validate\n",
    "# Create function go on diet- prompt for pounds lost\n",
    "# Validate, update weight\n"
   ]
  },
  {
   "cell_type": "code",
   "execution_count": null,
   "metadata": {},
   "outputs": [],
   "source": []
  },
  {
   "cell_type": "code",
   "execution_count": null,
   "metadata": {},
   "outputs": [],
   "source": []
  }
 ],
 "metadata": {
  "kernelspec": {
   "display_name": "Python 3",
   "language": "python",
   "name": "python3"
  },
  "language_info": {
   "codemirror_mode": {
    "name": "ipython",
    "version": 3
   },
   "file_extension": ".py",
   "mimetype": "text/x-python",
   "name": "python",
   "nbconvert_exporter": "python",
   "pygments_lexer": "ipython3",
   "version": "3.8.5"
  }
 },
 "nbformat": 4,
 "nbformat_minor": 4
}
