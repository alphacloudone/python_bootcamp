{
 "cells": [
  {
   "cell_type": "raw",
   "metadata": {},
   "source": [
    "Build a function that creates, a deck of 52 cards: Two through Ace, in four suits: Hearts, Diamonds, Clubs, and Spades\n",
    "\n",
    "For our cards, we're going to use a list object. A card will be a list with with three items- the name (Queen of Hearts), te face (Ace), and the value (11). The reason we will use a list, instead of a tuple, is that we want to be able to change the value easily for the Ace. \n",
    "\n",
    "VCeate a dictionary of the card faces and their associated points.  For example, face cards, like the Jack, Queen and Queen, are worth 10 points. So your dictionary entry would be {'King':10}. Set the Ace value to 11. You'll use this for creating each card in the deck.\n",
    "\n",
    "Also create a list of the four card suits- hearts, diamonds, clubs, spades \n",
    "\n",
    "Build a function that creates a deck (list) of card objects (lists). "
   ]
  },
  {
   "cell_type": "code",
   "execution_count": null,
   "metadata": {},
   "outputs": [],
   "source": [
    "# Create a dictionary of cards and their point values\n",
    "\n",
    "# create a list of the card suits\n",
    "\n",
    "# Build the fuction that creates a deck of 52 cards\n",
    "\n",
    "            "
   ]
  },
  {
   "cell_type": "markdown",
   "metadata": {},
   "source": [
    "Create a function that will shuffle the deck.\n",
    "\n",
    "Hint- the library \"random\" includes a function called \"shuffle\".  This function takes a list object as an input, and shuffles the order of the items in that list."
   ]
  },
  {
   "cell_type": "code",
   "execution_count": null,
   "metadata": {},
   "outputs": [],
   "source": [
    "import random\n",
    "\n",
    "\n",
    "    "
   ]
  },
  {
   "cell_type": "markdown",
   "metadata": {},
   "source": [
    "Now that you have a suffled deck of cards, it's time to deal. First, let's set up a new Class object for each player's hand. This object will have two attributes- a list of the Card objects held by a player, as well as the total point value for that hand.\n"
   ]
  },
  {
   "cell_type": "code",
   "execution_count": null,
   "metadata": {},
   "outputs": [],
   "source": [
    "# create Hand object\n",
    "\n",
    "        "
   ]
  },
  {
   "cell_type": "markdown",
   "metadata": {},
   "source": [
    "Next, let's create a function that will deal out the cards.  This function takes in the deck, it should deal one card by removing it from the deck.  It should then return the updated deck, and the card dealt.  "
   ]
  },
  {
   "cell_type": "code",
   "execution_count": null,
   "metadata": {},
   "outputs": [],
   "source": [
    "# create deal card function\n",
    "\n",
    "    "
   ]
  },
  {
   "cell_type": "markdown",
   "metadata": {},
   "source": [
    "In Blackjack, and Ace can be worth 11 points, or it can be worth 1 point, at the discretion of the holder.  We'll need a function to change the value of a Ace if the holder desires. Build a new function, taking the card as input, changing the value, and providing the new version as output."
   ]
  },
  {
   "cell_type": "code",
   "execution_count": null,
   "metadata": {},
   "outputs": [],
   "source": [
    "# function to change the value (index position 2) from 11 to 1\n",
    "\n"
   ]
  },
  {
   "cell_type": "markdown",
   "metadata": {},
   "source": [
    "In Blackjack, the first card dealt to each person is face-down, so you know what card you got, but not what the others got. Then a second card is dealt to each person face up. So you know which card you got, and which card the other player got. \n",
    "\n",
    "The code should print out what card was dealt, unless it is the first card dealt to the dealer. Create a conditional variable for this."
   ]
  },
  {
   "cell_type": "markdown",
   "metadata": {},
   "source": [
    "You should also create a boolean value and loop to run the entire game. "
   ]
  },
  {
   "cell_type": "markdown",
   "metadata": {},
   "source": [
    "Start the game by dealing a card to yourself and the dealer, only printing the card you were dealt.  You can use a loop and a boolean to deal two cards each to yourself and the dealer, only printing the dealer's second card."
   ]
  },
  {
   "cell_type": "code",
   "execution_count": null,
   "metadata": {},
   "outputs": [],
   "source": [
    "# Run the Deck function to create a deck of cards\n",
    "\n",
    "\n",
    "# Shuffle the deck\n",
    "\n",
    "\n",
    "# Create object instances for your hand and the Dealer's hand\n",
    "\n",
    "\n",
    "# create variables for control flow logic\n",
    "\n",
    "\n",
    "# code your main application\n",
    "# start with dealing the first two cards\n",
    "\n",
    "\n",
    "    "
   ]
  },
  {
   "cell_type": "code",
   "execution_count": null,
   "metadata": {},
   "outputs": [],
   "source": []
  }
 ],
 "metadata": {
  "kernelspec": {
   "display_name": "Python 3",
   "language": "python",
   "name": "python3"
  },
  "language_info": {
   "codemirror_mode": {
    "name": "ipython",
    "version": 3
   },
   "file_extension": ".py",
   "mimetype": "text/x-python",
   "name": "python",
   "nbconvert_exporter": "python",
   "pygments_lexer": "ipython3",
   "version": "3.8.5"
  }
 },
 "nbformat": 4,
 "nbformat_minor": 4
}
