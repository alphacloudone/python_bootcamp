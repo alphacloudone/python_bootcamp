{
 "cells": [
  {
   "cell_type": "raw",
   "metadata": {},
   "source": [
    "Build a function that creates, a deck of 52 cards: Two through Ace, in four suits: Hearts, Diamonds, Clubs, and Spades\n",
    "\n",
    "For our cards, we're going to use a list object. A card will be a list with with three items- the name (Queen of Hearts), te face (Ace), and the value (11). The reason we will use a list, instead of a tuple, is that we want to be able to change the value easily for the Ace. \n",
    "\n",
    "VCeate a dictionary of the card faces and their associated points.  For example, face cards, like the Jack, Queen and Queen, are worth 10 points. So your dictionary entry would be {'King':10}. Set the Ace value to 11. You'll use this for creating each card in the deck.\n",
    "\n",
    "Also create a list of the four card suits- hearts, diamonds, clubs, spades \n",
    "\n",
    "Build a function that creates a deck (list) of card objects (lists). "
   ]
  },
  {
   "cell_type": "code",
   "execution_count": 1,
   "metadata": {},
   "outputs": [],
   "source": [
    "# Create a dictionary of cards and their point values\n",
    "card_list={\"Ace\":11,\"Two\":2,\"Three\":3,\"Four\":4,\"Five\":5, \"Six\":6, \"Seven\":7, \"Eight\":8, \"Nine\":9, \"Ten\":10, \"Jack\":10,\"Queen\":10, \"King\":10}\n",
    "\n",
    "# create a list of the card suits\n",
    "suits_list=[\"Hearts\", \"Diamonds\", \"Spades\", \"Clubs\"]\n",
    "\n",
    "# Build the fuction that creates a deck of 52 cards\n",
    "def create_deck(suits_list,card_list):\n",
    "    deck= []\n",
    "    card= []\n",
    "    for suit in suits_list:\n",
    "        for item in card_list.items():\n",
    "            name=(item[0]+\" of \"+suit)\n",
    "            card=[name, item[0], item[1]]\n",
    "            deck.append(card)\n",
    "    return(deck)\n",
    "            "
   ]
  },
  {
   "cell_type": "markdown",
   "metadata": {},
   "source": [
    "Create a function that will shuffle the deck.\n",
    "\n",
    "Hint- the library \"random\" includes a function called \"shuffle\".  This function takes a list object as an input, and shuffles the order of the items in that list."
   ]
  },
  {
   "cell_type": "code",
   "execution_count": 2,
   "metadata": {},
   "outputs": [],
   "source": [
    "import random\n",
    "\n",
    "def shuffle_deck(deck):\n",
    "    random.shuffle(deck)\n",
    "    return(deck)\n",
    "    "
   ]
  },
  {
   "cell_type": "markdown",
   "metadata": {},
   "source": [
    "Now that you have a suffled deck of cards, it's time to deal. First, let's set up a new Class object for each player's hand. This object will have two attributes- a list of the Card objects held by a player, as well as the total point value for that hand.\n"
   ]
  },
  {
   "cell_type": "code",
   "execution_count": 3,
   "metadata": {},
   "outputs": [],
   "source": [
    "# create Hand object\n",
    "\n",
    "\n",
    "class Hand():\n",
    "    def __init__(self, cards=[], points=0):\n",
    "        self.cards= cards\n",
    "        self.points= points\n",
    "        "
   ]
  },
  {
   "cell_type": "markdown",
   "metadata": {},
   "source": [
    "Next, let's create a function that will deal out the cards.  This function takes in the deck, it should deal one card by removing it from the deck.  It should then return the updated deck, and the card dealt.  "
   ]
  },
  {
   "cell_type": "code",
   "execution_count": 4,
   "metadata": {},
   "outputs": [],
   "source": [
    "# create deal card function\n",
    "def deal_card(deck):\n",
    "    card=deck.pop()\n",
    "    return(deck,card)\n",
    "    "
   ]
  },
  {
   "cell_type": "markdown",
   "metadata": {},
   "source": [
    "In Blackjack, and Ace can be worth 11 points, or it can be worth 1 point, at the discretion of the holder.  We'll need a function to change the value of a Ace if the holder desires. Build a new function, taking the card as input, changing the value, and providing the new version as output."
   ]
  },
  {
   "cell_type": "code",
   "execution_count": 5,
   "metadata": {},
   "outputs": [],
   "source": [
    "# function to change the value (index position 2) from 11 to 1\n",
    "\n",
    "def change_ace(card):\n",
    "    card[2]=1   \n",
    "    return(card)"
   ]
  },
  {
   "cell_type": "markdown",
   "metadata": {},
   "source": [
    "In Blackjack, the first card dealt to each person is face-down, so you know what card you got, but not what the others got. Then a second card is dealt to each person face up. So you know which card you got, and which card the other player got. \n",
    "\n",
    "The code should print out what card was dealt, unless it is the first card dealt to the dealer. Create a conditional variable for this."
   ]
  },
  {
   "cell_type": "markdown",
   "metadata": {},
   "source": [
    "You should also create a boolean value and loop to run the entire game. "
   ]
  },
  {
   "cell_type": "markdown",
   "metadata": {},
   "source": [
    "Start the game by dealing a card to yourself and the dealer, only printing the card you were dealt.  You can use a loop and a boolean to deal two cards each to yourself and the dealer, only printing the dealer's second card."
   ]
  },
  {
   "cell_type": "code",
   "execution_count": 20,
   "metadata": {},
   "outputs": [
    {
     "name": "stdout",
     "output_type": "stream",
     "text": [
      "Your first card is:  Jack of Hearts\n",
      "Dealer receives first card\n",
      "Your second card is:  Jack of Clubs\n",
      "Dealer's second card is:  Three of Clubs\n",
      "You currently have  20  points\n",
      "Would you like to hit? Y or N n\n",
      "You did not hit\n",
      "You have  20  points\n",
      "Dealer's turn. Dealer has 9  points\n",
      "Dealer will hit\n",
      "Dealer's card is:  Seven of Hearts\n",
      "You have  20  points\n",
      "Dealer's turn. Dealer has 16  points\n",
      "Dealer will hit\n",
      "Dealer's card is:  Jack of Diamonds\n",
      "Dealer busts, you won!\n"
     ]
    }
   ],
   "source": [
    "# Run the Deck function to create a deck of cards\n",
    "deck=[]\n",
    "deck = create_deck(suits_list, card_list)\n",
    "\n",
    "# Shuffle the deck\n",
    "deck=shuffle_deck(deck)\n",
    "\n",
    "# Create objects for your hand and the Dealer's hand\n",
    "MyHand = Hand()\n",
    "DealerHand = Hand()\n",
    "\n",
    "# create variables for control flow logic\n",
    "first_card = True\n",
    "x=0\n",
    "game_over = False\n",
    "skip_dealer = False\n",
    "\n",
    "# code your main application\n",
    "# start with dealing the first two cards\n",
    "\n",
    "while (x<2):\n",
    "    # Deal your card\n",
    "    (deck, card) = deal_card(deck)\n",
    "    MyHand.cards.append(card)\n",
    "    MyHand.points+=card[2]\n",
    "    if first_card==False:\n",
    "        print(\"Your second card is: \", card[0])\n",
    "    else:    \n",
    "        print(\"Your first card is: \",card[0])\n",
    "    \n",
    "    # dealer card\n",
    "    (deck, card) = deal_card(deck)\n",
    "    DealerHand.cards.append(card)\n",
    "    DealerHand.points+=card[2]\n",
    "    if first_card==False:\n",
    "        print(\"Dealer's second card is: \",card[0])\n",
    "    else:\n",
    "        print(\"Dealer receives first card\")\n",
    "    x+=1\n",
    "    first_card=False\n",
    "    \n",
    "    if MyHand.points == 21:\n",
    "        print(\"You have 21 points\")\n",
    "        print(\"Dealer has: \",DealerHand.points,\" points\")\n",
    "        if DealerHand.points==21:\n",
    "            print(\"You both have 21, it's a draw.\")\n",
    "            game_over=True\n",
    "            break\n",
    "        elif DealerHand.points >= 17:\n",
    "            print(\"You have won!\")\n",
    "            game_over=True\n",
    "            break\n",
    "            \n",
    "while game_over == False:\n",
    "    while MyHand.points < 21:\n",
    "        print(\"You currently have \",MyHand.points,\" points\")\n",
    "        valid_response = False\n",
    "        while valid_response == False: \n",
    "            response = input(\"Would you like to hit? Y or N \").capitalize()\n",
    "            if (response != 'Y') and (response != 'N'):\n",
    "                print(\" That is not a valid response\")\n",
    "            else:\n",
    "                break\n",
    "        if (response == 'Y'):\n",
    "            (deck, card) = deal_card(deck)\n",
    "            if card[1]=='Ace':\n",
    "                valid_response = False\n",
    "                while valid_response == False: \n",
    "                    change_card=input(\"Your card is an Ace, would you like to change to value 1? Y/N\").capitalize()\n",
    "                    if (response != 'Y') and (response != 'N'):\n",
    "                        print(\" That is not a valid response\")\n",
    "                    else:\n",
    "                        change_ace(card)             \n",
    "            MyHand.cards.append(card)\n",
    "            MyHand.points+=card[2]\n",
    "            print(\"Your card is: \", card[0])\n",
    "            if (MyHand.points >21):\n",
    "                print(\"You have \",MyHand.points,\" points\")\n",
    "                print(\"You have bust. Game Over\")\n",
    "                game_over=True\n",
    "                skip_dealer = True\n",
    "                break\n",
    "            if (MyHand.points == 21):\n",
    "                print(\"You have Blackjack\")\n",
    "        else:\n",
    "            print(\"You did not hit\")\n",
    "            break\n",
    "                \n",
    "    while DealerHand.points < 22 and skip_dealer==False:\n",
    "        print(\"You have \",MyHand.points,\" points\")\n",
    "        print(\"Dealer's turn. Dealer has\",DealerHand.points,\" points\")\n",
    "        if (skip_dealer == True):\n",
    "            break\n",
    "        if DealerHand.points >= 17:\n",
    "            print(\"Dealer stays\")\n",
    "            if DealerHand.points==MyHand.points:\n",
    "                print(\"It's a push, dealer wins\")\n",
    "                game_over=True\n",
    "                break\n",
    "            if DealerHand.points>MyHand.points:\n",
    "                print(\"Dealer has more points, dealer wins\")\n",
    "                game_over=True\n",
    "                break\n",
    "            if DealerHand.points<MyHand.points:\n",
    "                print(\"You have more points, you win\")\n",
    "                game_over=True\n",
    "                break\n",
    "        else: \n",
    "            print(\"Dealer will hit\")\n",
    "            (deck, card) = deal_card(deck)\n",
    "            DealerHand.cards.append(card)\n",
    "            DealerHand.points+=card[2]\n",
    "            print(\"Dealer's card is: \",card[0])\n",
    "            if (DealerHand.points > 21):  \n",
    "                print(\"Dealer busts, you won!\")\n",
    "                game_over=True\n",
    "                break\n",
    "            elif (DealerHand.points == 21):\n",
    "                if (MyHand.points < 21):\n",
    "                    print(\"Dealer has blackjack. Dealer wins\")\n",
    "                    game_over=True\n",
    "                    break\n",
    "                elif MyHand.points == 21:\n",
    "                    print(\"You both have 21, it's a draw\")\n",
    "                    game_over=True\n",
    "                    break\n",
    "            elif (DealerHand.points > MyHand.points):\n",
    "                print(\"Dealer has \",DealerHand.points,\" points, dealer wins!\")\n",
    "                game_over=True\n",
    "                break\n",
    "\n",
    "    "
   ]
  },
  {
   "cell_type": "code",
   "execution_count": null,
   "metadata": {},
   "outputs": [],
   "source": []
  }
 ],
 "metadata": {
  "kernelspec": {
   "display_name": "Python 3",
   "language": "python",
   "name": "python3"
  },
  "language_info": {
   "codemirror_mode": {
    "name": "ipython",
    "version": 3
   },
   "file_extension": ".py",
   "mimetype": "text/x-python",
   "name": "python",
   "nbconvert_exporter": "python",
   "pygments_lexer": "ipython3",
   "version": "3.8.5"
  }
 },
 "nbformat": 4,
 "nbformat_minor": 4
}
